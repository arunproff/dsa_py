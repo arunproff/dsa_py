{
 "cells": [
  {
   "cell_type": "markdown",
   "metadata": {},
   "source": [
    "Data Structure\n",
    "- Arrary Lists\n",
    "- Linked Lists\n",
    "- Stacks\n",
    "- Queues\n",
    "- BST(Binary Search Trees)\n",
    "- Balanced Binary Trees\n",
    "- Heaps\n",
    "- Directories\n",
    "- Tries\n",
    "\n",
    "Graph Algorithms\n",
    "- Breath first search\n",
    "- Deapth first search\n",
    "- Shortest Paths\n",
    "- Spanning trees\n",
    "\n",
    "Sorting Algorithms\n"
   ]
  },
  {
   "cell_type": "code",
   "execution_count": null,
   "metadata": {},
   "outputs": [],
   "source": []
  },
  {
   "cell_type": "code",
   "execution_count": null,
   "metadata": {},
   "outputs": [],
   "source": []
  },
  {
   "cell_type": "code",
   "execution_count": null,
   "metadata": {},
   "outputs": [],
   "source": []
  }
 ],
 "metadata": {
  "kernelspec": {
   "display_name": "Python 3",
   "language": "python",
   "name": "python3"
  },
  "language_info": {
   "codemirror_mode": {
    "name": "ipython",
    "version": 3
   },
   "file_extension": ".py",
   "mimetype": "text/x-python",
   "name": "python",
   "nbconvert_exporter": "python",
   "pygments_lexer": "ipython3",
   "version": "3.7.3"
  }
 },
 "nbformat": 4,
 "nbformat_minor": 4
}
