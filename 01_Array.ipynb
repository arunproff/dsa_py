{
 "cells": [
  {
   "cell_type": "code",
   "execution_count": 11,
   "metadata": {},
   "outputs": [],
   "source": [
    "from IPython.core.interactiveshell import InteractiveShell\n",
    "InteractiveShell.ast_node_interactivity = \"all\""
   ]
  },
  {
   "cell_type": "markdown",
   "metadata": {},
   "source": []
  },
  {
   "cell_type": "markdown",
   "metadata": {},
   "source": [
    "ADT and data structures\n",
    " - ADT            Data structures\n",
    " - Stack      =>   Array, Linked list\n",
    " - Queue      =>   Array, Linked list\n",
    " - Priority Queue => Heap\n",
    " - Dictonary / hashmap => Array\n"
   ]
  },
  {
   "cell_type": "code",
   "execution_count": 52,
   "metadata": {},
   "outputs": [
    {
     "data": {
      "text/plain": [
       "list"
      ]
     },
     "execution_count": 52,
     "metadata": {},
     "output_type": "execute_result"
    },
    {
     "data": {
      "text/plain": [
       "10"
      ]
     },
     "execution_count": 52,
     "metadata": {},
     "output_type": "execute_result"
    },
    {
     "data": {
      "text/plain": [
       "[10, 50, 30, 40]"
      ]
     },
     "execution_count": 52,
     "metadata": {},
     "output_type": "execute_result"
    },
    {
     "name": "stdout",
     "output_type": "stream",
     "text": [
      "10\n",
      "50\n",
      "30\n",
      "40\n",
      "Maximum element is :  50\n"
     ]
    }
   ],
   "source": [
    "# Arrays\n",
    "# A collection of elements/values identified by index/key\n",
    "array = [10,20,30,40]\n",
    "type(array)\n",
    "array[0]              # random access of elements at an index\n",
    "array[1]=50           # array updated at an index 1\n",
    "array\n",
    "\n",
    "for i in range(len(array)):       # looping in array\n",
    "    print(array[i])\n",
    "    \n",
    "max = array[0]                    # Time complexity of loop is O(N)\n",
    "for i in array:                   # because it iterates N times, where N is number of elements\n",
    "    if i > max:\n",
    "        max = i;\n",
    "print(\"Maximum element is : \",max)\n",
    "        "
   ]
  },
  {
   "cell_type": "code",
   "execution_count": 37,
   "metadata": {},
   "outputs": [
    {
     "data": {
      "text/plain": [
       "array([[ 1, -1,  2],\n",
       "       [ 3,  2,  0],\n",
       "       [ 4,  8,  0]])"
      ]
     },
     "execution_count": 37,
     "metadata": {},
     "output_type": "execute_result"
    },
    {
     "data": {
      "text/plain": [
       "8"
      ]
     },
     "execution_count": 37,
     "metadata": {},
     "output_type": "execute_result"
    }
   ],
   "source": [
    "# Multidimention Array\n",
    "# Two dimentional arrays is matrix\n",
    "import numpy as np\n",
    "A = np.array([[1,-1,2],[3,2,0],[4,8,0]])\n",
    "A\n",
    "A[2][1]   # A[r][c] , r is row, c is column, bound is (0,1,2)"
   ]
  },
  {
   "cell_type": "markdown",
   "metadata": {},
   "source": [
    "Inserting or Removing elements in array\n",
    "- in the end      # O(1) time complexity\n",
    "- at an index     # O(n) time complexity"
   ]
  },
  {
   "cell_type": "code",
   "execution_count": null,
   "metadata": {},
   "outputs": [],
   "source": []
  },
  {
   "cell_type": "code",
   "execution_count": null,
   "metadata": {},
   "outputs": [],
   "source": []
  },
  {
   "cell_type": "code",
   "execution_count": null,
   "metadata": {},
   "outputs": [],
   "source": []
  },
  {
   "cell_type": "code",
   "execution_count": null,
   "metadata": {},
   "outputs": [],
   "source": []
  }
 ],
 "metadata": {
  "kernelspec": {
   "display_name": "Python 3",
   "language": "python",
   "name": "python3"
  },
  "language_info": {
   "codemirror_mode": {
    "name": "ipython",
    "version": 3
   },
   "file_extension": ".py",
   "mimetype": "text/x-python",
   "name": "python",
   "nbconvert_exporter": "python",
   "pygments_lexer": "ipython3",
   "version": "3.7.3"
  }
 },
 "nbformat": 4,
 "nbformat_minor": 4
}
