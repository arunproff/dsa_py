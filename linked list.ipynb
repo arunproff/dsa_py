{
 "cells": [
  {
   "cell_type": "code",
   "execution_count": 1,
   "metadata": {},
   "outputs": [],
   "source": [
    "from IPython.core.interactiveshell import InteractiveShell\n",
    "InteractiveShell.ast_node_interactivity = \"all\""
   ]
  },
  {
   "cell_type": "markdown",
   "metadata": {},
   "source": [
    "Linked list \n",
    "/ Consists of nodes and refrence/pointer from one node to the another"
   ]
  },
  {
   "cell_type": "code",
   "execution_count": 3,
   "metadata": {},
   "outputs": [],
   "source": [
    "class Node(object):\n",
    "    \n",
    "    def __init__(self,data):\n",
    "        self.data = data;\n",
    "        self.nextNode = None;\n",
    "        \n",
    "class LinkedList(object):\n",
    "    \n",
    "    def __init__(self):\n",
    "        self.head = None;\n",
    "        self.size = 0;\n",
    "        \n",
    "    def insertStart(self, data):\n",
    "        self.size = self.size + 1;\n",
    "        newNode = Node(data);\n",
    "        \n",
    "        if not self.head:\n",
    "            self.head = newNode;\n",
    "        else:\n",
    "            newNode.nextNode = self.head;\n",
    "            self.head = newNode;\n",
    "            \n",
    "    def size(self):\n",
    "        return self.size;\n",
    "    \n",
    "    def size2(self):\n",
    "        actualNode = self.head;\n",
    "        size = 0;\n",
    "        \n",
    "        while actualNode is not None;\n",
    "            size+=1;\n",
    "            actualNode = actualNode.nextNode;\n",
    "            \n",
    "        return size;\n",
    "    "
   ]
  },
  {
   "cell_type": "code",
   "execution_count": null,
   "metadata": {},
   "outputs": [],
   "source": []
  },
  {
   "cell_type": "code",
   "execution_count": null,
   "metadata": {},
   "outputs": [],
   "source": []
  },
  {
   "cell_type": "code",
   "execution_count": null,
   "metadata": {},
   "outputs": [],
   "source": []
  },
  {
   "cell_type": "code",
   "execution_count": null,
   "metadata": {},
   "outputs": [],
   "source": []
  }
 ],
 "metadata": {
  "kernelspec": {
   "display_name": "Python 3",
   "language": "python",
   "name": "python3"
  },
  "language_info": {
   "codemirror_mode": {
    "name": "ipython",
    "version": 3
   },
   "file_extension": ".py",
   "mimetype": "text/x-python",
   "name": "python",
   "nbconvert_exporter": "python",
   "pygments_lexer": "ipython3",
   "version": "3.7.3"
  }
 },
 "nbformat": 4,
 "nbformat_minor": 4
}
